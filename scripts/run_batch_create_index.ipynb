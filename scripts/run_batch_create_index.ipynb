{
 "cells": [
  {
   "cell_type": "code",
   "execution_count": 1,
   "metadata": {},
   "outputs": [
    {
     "data": {
      "text/plain": [
       "True"
      ]
     },
     "execution_count": 1,
     "metadata": {},
     "output_type": "execute_result"
    }
   ],
   "source": [
    "# read config.json\n",
    "import copy\n",
    "import json\n",
    "import os\n",
    "import subprocess\n",
    "import tqdm\n",
    "from openai import AzureOpenAI\n",
    "from dotenv import load_dotenv\n",
    "\n",
    "load_dotenv()  "
   ]
  },
  {
   "cell_type": "code",
   "execution_count": 2,
   "metadata": {},
   "outputs": [
    {
     "data": {
      "text/plain": [
       "['aks',\n",
       " 'azure-docs',\n",
       " 'Mercedes',\n",
       " 'merge_contact',\n",
       " 'nyc',\n",
       " 'pdf-testing',\n",
       " 'Premera',\n",
       " 'product-info',\n",
       " 'test_folder_sophie',\n",
       " 'test_loranorm',\n",
       " 'tprompt',\n",
       " 'yw']"
      ]
     },
     "execution_count": 2,
     "metadata": {},
     "output_type": "execute_result"
    }
   ],
   "source": [
    "# list out all data\n",
    "os.listdir(\"../../data/gptassertdata/index_data\")"
   ]
  },
  {
   "cell_type": "code",
   "execution_count": 4,
   "metadata": {},
   "outputs": [
    {
     "data": {
      "text/plain": [
       "[{'data_path': '<path to data>',\n",
       "  'location': \"<azure region, e.g. 'westus2'>\",\n",
       "  'subscription_id': '<subscription id>',\n",
       "  'resource_group': '<resource group name>',\n",
       "  'search_service_name': '<search service name to use or create>',\n",
       "  'index_name': '<index name to use or create>',\n",
       "  'chunk_size': 1024,\n",
       "  'token_overlap': 128,\n",
       "  'semantic_config_name': 'default',\n",
       "  'language': \"<Language to support for example use 'en' for English. Checked supported languages here under lucene - https://learn.microsoft.com/en-us/azure/search/index-add-language-analyzers\"}]"
      ]
     },
     "execution_count": 4,
     "metadata": {},
     "output_type": "execute_result"
    }
   ],
   "source": [
    "with open(\"./config.json\", \"r\") as f:\n",
    "    config = json.loads(f.read())\n",
    "\n",
    "config"
   ]
  },
  {
   "cell_type": "code",
   "execution_count": 4,
   "metadata": {},
   "outputs": [],
   "source": [
    "FORM_RECOGNIZER_KEY = os.getenv(\"FORM_RECOGNIZER_KEY\")"
   ]
  },
  {
   "cell_type": "code",
   "execution_count": 10,
   "metadata": {},
   "outputs": [],
   "source": [
    "run_config_by_data_path_3_small_512_512 = {\n",
    "    \"aks\": \"aks_embed_003_small_512_512_index\",\n",
    "    \"azure-docs\": {\n",
    "        \"index\": \"azure_embed_003_small_512_512_index\",\n",
    "        \"subfolder\": \"azure-docs\",\n",
    "    },\n",
    "    \"Mercedes\": \"mercedes_embed_003_small_512_512_index\",\n",
    "    \"merge_contact\": {\n",
    "        \"index\": \"merge_contact_embed_003_small_512_512_index\",\n",
    "        \"form-rec-use-layout\": False,\n",
    "    },\n",
    "    \"nyc\": \"nyc_embed_003_small_512_512_index\",\n",
    "    \"Premera\": \"premera_embed_003_small_512_512_index\",\n",
    "    \"product-info\": {\n",
    "        \"index\": \"product_info_embed_003_small_512_512_index\",\n",
    "        \"subfolder\": \"product-info\",\n",
    "    },\n",
    "    \"test_loranorm\": {\n",
    "        \"index\": \"test_loranorm_embed_003_small_512_512_index\",\n",
    "        \"form-rec-use-layout\": False,\n",
    "    },\n",
    "    \"tprompt\": {\n",
    "        \"index\": \"tprompt_embed_003_small_512_512_index\",\n",
    "        \"subfolder\": \"source\",\n",
    "    },\n",
    "    \"yw\": \"yw_embed_003_small_512_512_index\",\n",
    "    \n",
    "}"
   ]
  },
  {
   "cell_type": "code",
   "execution_count": 12,
   "metadata": {},
   "outputs": [
    {
     "name": "stderr",
     "output_type": "stream",
     "text": [
      "  0%|                                                                                           | 0/10 [00:00<?, ?it/s]"
     ]
    },
    {
     "name": "stdout",
     "output_type": "stream",
     "text": [
      "C:\\Users\\sophiechen.REDMOND\\OneDrive - Microsoft\\Documents\\oyd\\data\\gptassertdata\\index_data\\aks\n"
     ]
    },
    {
     "name": "stderr",
     "output_type": "stream",
     "text": [
      " 10%|███████▎                                                                 | 1/10 [11:39:42<104:57:24, 41982.78s/it]"
     ]
    },
    {
     "name": "stdout",
     "output_type": "stream",
     "text": [
      "C:\\Users\\sophiechen.REDMOND\\OneDrive - Microsoft\\Documents\\oyd\\data\\gptassertdata\\index_data\\azure-docs\\azure-docs\n"
     ]
    },
    {
     "name": "stderr",
     "output_type": "stream",
     "text": [
      " 20%|██████████████▊                                                           | 2/10 [20:59:15<82:18:03, 37035.43s/it]"
     ]
    },
    {
     "name": "stdout",
     "output_type": "stream",
     "text": [
      "C:\\Users\\sophiechen.REDMOND\\OneDrive - Microsoft\\Documents\\oyd\\data\\gptassertdata\\index_data\\Mercedes\n"
     ]
    },
    {
     "name": "stderr",
     "output_type": "stream",
     "text": [
      " 30%|██████████████████████▏                                                   | 3/10 [21:08:49<39:38:27, 20386.80s/it]"
     ]
    },
    {
     "name": "stdout",
     "output_type": "stream",
     "text": [
      "C:\\Users\\sophiechen.REDMOND\\OneDrive - Microsoft\\Documents\\oyd\\data\\gptassertdata\\index_data\\merge_contact\n"
     ]
    },
    {
     "name": "stderr",
     "output_type": "stream",
     "text": [
      " 40%|█████████████████████████████▌                                            | 4/10 [21:13:17<20:44:23, 12443.88s/it]"
     ]
    },
    {
     "name": "stdout",
     "output_type": "stream",
     "text": [
      "C:\\Users\\sophiechen.REDMOND\\OneDrive - Microsoft\\Documents\\oyd\\data\\gptassertdata\\index_data\\nyc\n"
     ]
    },
    {
     "name": "stderr",
     "output_type": "stream",
     "text": [
      " 50%|█████████████████████████████████████▌                                     | 5/10 [21:23:05<11:20:42, 8168.58s/it]"
     ]
    },
    {
     "name": "stdout",
     "output_type": "stream",
     "text": [
      "C:\\Users\\sophiechen.REDMOND\\OneDrive - Microsoft\\Documents\\oyd\\data\\gptassertdata\\index_data\\Premera\n"
     ]
    },
    {
     "name": "stderr",
     "output_type": "stream",
     "text": [
      " 60%|█████████████████████████████████████████████▌                              | 6/10 [21:37:55<6:19:35, 5693.97s/it]"
     ]
    },
    {
     "name": "stdout",
     "output_type": "stream",
     "text": [
      "C:\\Users\\sophiechen.REDMOND\\OneDrive - Microsoft\\Documents\\oyd\\data\\gptassertdata\\index_data\\product-info\\product-info\n"
     ]
    },
    {
     "name": "stderr",
     "output_type": "stream",
     "text": [
      " 70%|█████████████████████████████████████████████████████▏                      | 7/10 [21:42:41<3:16:17, 3925.94s/it]"
     ]
    },
    {
     "name": "stdout",
     "output_type": "stream",
     "text": [
      "C:\\Users\\sophiechen.REDMOND\\OneDrive - Microsoft\\Documents\\oyd\\data\\gptassertdata\\index_data\\test_loranorm\n"
     ]
    },
    {
     "name": "stderr",
     "output_type": "stream",
     "text": [
      " 80%|████████████████████████████████████████████████████████████▊               | 8/10 [21:47:12<1:32:04, 2762.41s/it]"
     ]
    },
    {
     "name": "stdout",
     "output_type": "stream",
     "text": [
      "C:\\Users\\sophiechen.REDMOND\\OneDrive - Microsoft\\Documents\\oyd\\data\\gptassertdata\\index_data\\tprompt\\source\n"
     ]
    },
    {
     "name": "stderr",
     "output_type": "stream",
     "text": [
      " 90%|██████████████████████████████████████████████████████████████████████▏       | 9/10 [21:52:17<33:14, 1994.26s/it]"
     ]
    },
    {
     "name": "stdout",
     "output_type": "stream",
     "text": [
      "C:\\Users\\sophiechen.REDMOND\\OneDrive - Microsoft\\Documents\\oyd\\data\\gptassertdata\\index_data\\yw\n"
     ]
    },
    {
     "name": "stderr",
     "output_type": "stream",
     "text": [
      "100%|█████████████████████████████████████████████████████████████████████████████| 10/10 [21:57:17<00:00, 7903.76s/it]\n"
     ]
    }
   ],
   "source": [
    "for key, cfg in tqdm.tqdm(run_config_by_data_path_3_small_512_512.items()):\n",
    "    folder = os.path.join(\"../../data/gptassertdata/index_data\", key)\n",
    "    \n",
    "    if isinstance(cfg, str):\n",
    "        index = cfg\n",
    "        form_rec_use_layout = True\n",
    "    else:\n",
    "        index = cfg[\"index\"]\n",
    "        form_rec_use_layout = cfg.get(\"form-rec-use-layout\", True)\n",
    "        if \"subfolder\" in cfg:\n",
    "            folder = os.path.join(folder, cfg[\"subfolder\"])\n",
    "\n",
    "\n",
    "    config_key = copy.deepcopy(config[0])\n",
    "    config_key[\"data_path\"] = os.path.abspath(folder)\n",
    "    config_key[\"index_name\"] = index\n",
    "\n",
    "    print(config_key[\"data_path\"])\n",
    "    with open(f\"./config.{key}.json\", \"w\") as f:\n",
    "        f.write(json.dumps([config_key]))\n",
    "    \n",
    "    command = [\n",
    "        \"python\",\n",
    "        \"data_preparation.py\",\n",
    "        \"--config\",\n",
    "        f\"config.{key}.json\",\n",
    "        \"--embedding-model-endpoint\",\n",
    "        '\"https://wed-aiq-aoai-eus.openai.azure.com/openai/deployments/text-embedding-3-small/embeddings?api-version=2024-02-15-preview\"',\n",
    "        \"--form-rec-resource\",\n",
    "        \"test-tprompt\",\n",
    "        \"--form-rec-key\",\n",
    "        FORM_RECOGNIZER_KEY,\n",
    "    ] + ([\"--form-rec-use-layout\"] if form_rec_use_layout else []) + [\n",
    "        \"--njobs=8\",\n",
    "    ]\n",
    "    str_command = \" \".join(command)\n",
    "    # print(str_command)\n",
    "    # continue\n",
    "    proc = subprocess.run(str_command, capture_output=True)\n",
    "    if proc.returncode != 0:\n",
    "        print(\"Error running\", command)\n",
    "        print(proc.stderr)\n",
    "        print(proc.stdout)"
   ]
  },
  {
   "cell_type": "code",
   "execution_count": null,
   "metadata": {},
   "outputs": [],
   "source": []
  },
  {
   "cell_type": "code",
   "execution_count": null,
   "metadata": {},
   "outputs": [],
   "source": []
  },
  {
   "cell_type": "code",
   "execution_count": null,
   "metadata": {},
   "outputs": [],
   "source": []
  }
 ],
 "metadata": {
  "kernelspec": {
   "display_name": "Python 3 (ipykernel)",
   "language": "python",
   "name": "python3"
  },
  "language_info": {
   "codemirror_mode": {
    "name": "ipython",
    "version": 3
   },
   "file_extension": ".py",
   "mimetype": "text/x-python",
   "name": "python",
   "nbconvert_exporter": "python",
   "pygments_lexer": "ipython3",
   "version": "3.12.3"
  }
 },
 "nbformat": 4,
 "nbformat_minor": 4
}
